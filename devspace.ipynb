{
 "cells": [
  {
   "cell_type": "code",
   "execution_count": 1,
   "metadata": {},
   "outputs": [],
   "source": [
    "from src.utils import parse_log, check_completion, view_log_summary\n",
    "import pandas as pd\n",
    "from datetime import datetime\n"
   ]
  },
  {
   "cell_type": "code",
   "execution_count": null,
   "metadata": {},
   "outputs": [
    {
     "name": "stdout",
     "output_type": "stream",
     "text": [
      "Parsing log file: /Users/yaleipeng/Projects/MS-Rewards-Farmer/logs/activity.log\n"
     ]
    },
    {
     "data": {
      "text/html": [
       "<div>\n",
       "<style scoped>\n",
       "    .dataframe tbody tr th:only-of-type {\n",
       "        vertical-align: middle;\n",
       "    }\n",
       "\n",
       "    .dataframe tbody tr th {\n",
       "        vertical-align: top;\n",
       "    }\n",
       "\n",
       "    .dataframe thead th {\n",
       "        text-align: right;\n",
       "    }\n",
       "</style>\n",
       "<table border=\"1\" class=\"dataframe\">\n",
       "  <thead>\n",
       "    <tr style=\"text-align: right;\">\n",
       "      <th></th>\n",
       "      <th>account</th>\n",
       "      <th>run_index</th>\n",
       "      <th>ts_start</th>\n",
       "      <th>ts_end</th>\n",
       "      <th>overall_completion</th>\n",
       "      <th>task.daily_set</th>\n",
       "      <th>task.desktop_searches</th>\n",
       "      <th>task.mobile_searches</th>\n",
       "      <th>task.read_articles</th>\n",
       "      <th>is_run_today</th>\n",
       "    </tr>\n",
       "  </thead>\n",
       "  <tbody>\n",
       "    <tr>\n",
       "      <th>0</th>\n",
       "      <td>yaleipeng@gmail.com</td>\n",
       "      <td>2</td>\n",
       "      <td>2024-11-24 06:31:51,918</td>\n",
       "      <td>2024-11-24 06:46:38,182</td>\n",
       "      <td>True</td>\n",
       "      <td>True</td>\n",
       "      <td>True</td>\n",
       "      <td>True</td>\n",
       "      <td>True</td>\n",
       "      <td>True</td>\n",
       "    </tr>\n",
       "  </tbody>\n",
       "</table>\n",
       "</div>"
      ],
      "text/plain": [
       "               account  run_index                 ts_start  \\\n",
       "0  yaleipeng@gmail.com          2  2024-11-24 06:31:51,918   \n",
       "\n",
       "                    ts_end  overall_completion  task.daily_set  \\\n",
       "0  2024-11-24 06:46:38,182                True            True   \n",
       "\n",
       "   task.desktop_searches  task.mobile_searches  task.read_articles  \\\n",
       "0                   True                  True                True   \n",
       "\n",
       "   is_run_today  \n",
       "0          True  "
      ]
     },
     "execution_count": 14,
     "metadata": {},
     "output_type": "execute_result"
    }
   ],
   "source": [
    "# Merge df_max_run with result_df to get the overall_completion status\n",
    "merged_df = df_max_run.merge(result_df[['email', 'overall_completion']], left_on='account', right_on='email', how='left')\n",
    "\n",
    "# Filter accounts where is_run_today is False or (is_run_today is True and overall_completion is False)\n",
    "rerun_needed_accounts = merged_df[(merged_df['is_run_today'] == False) | \n",
    "                                  ((merged_df['is_run_today'] == True) & (merged_df['overall_completion'] == False))]['account'].tolist()\n",
    "\n",
    "rerun_needed_accounts\n"
   ]
  },
  {
   "cell_type": "code",
   "execution_count": 19,
   "metadata": {},
   "outputs": [
    {
     "data": {
      "text/html": [
       "<div>\n",
       "<style scoped>\n",
       "    .dataframe tbody tr th:only-of-type {\n",
       "        vertical-align: middle;\n",
       "    }\n",
       "\n",
       "    .dataframe tbody tr th {\n",
       "        vertical-align: top;\n",
       "    }\n",
       "\n",
       "    .dataframe thead th {\n",
       "        text-align: right;\n",
       "    }\n",
       "</style>\n",
       "<table border=\"1\" class=\"dataframe\">\n",
       "  <thead>\n",
       "    <tr style=\"text-align: right;\">\n",
       "      <th></th>\n",
       "      <th>account</th>\n",
       "      <th>run_index</th>\n",
       "      <th>ts_start</th>\n",
       "      <th>ts_end</th>\n",
       "      <th>overall_completion</th>\n",
       "      <th>task.daily_set</th>\n",
       "      <th>task.desktop_searches</th>\n",
       "      <th>task.mobile_searches</th>\n",
       "      <th>task.read_articles</th>\n",
       "      <th>is_run_today</th>\n",
       "    </tr>\n",
       "  </thead>\n",
       "  <tbody>\n",
       "    <tr>\n",
       "      <th>0</th>\n",
       "      <td>yaleipeng@gmail.com</td>\n",
       "      <td>2</td>\n",
       "      <td>2024-11-24 06:31:51,918</td>\n",
       "      <td>2024-11-24 06:46:38,182</td>\n",
       "      <td>True</td>\n",
       "      <td>True</td>\n",
       "      <td>True</td>\n",
       "      <td>True</td>\n",
       "      <td>True</td>\n",
       "      <td>True</td>\n",
       "    </tr>\n",
       "  </tbody>\n",
       "</table>\n",
       "</div>"
      ],
      "text/plain": [
       "               account  run_index                 ts_start  \\\n",
       "0  yaleipeng@gmail.com          2  2024-11-24 06:31:51,918   \n",
       "\n",
       "                    ts_end  overall_completion  task.daily_set  \\\n",
       "0  2024-11-24 06:46:38,182                True            True   \n",
       "\n",
       "   task.desktop_searches  task.mobile_searches  task.read_articles  \\\n",
       "0                   True                  True                True   \n",
       "\n",
       "   is_run_today  \n",
       "0          True  "
      ]
     },
     "execution_count": 19,
     "metadata": {},
     "output_type": "execute_result"
    }
   ],
   "source": [
    "df_max_run"
   ]
  },
  {
   "cell_type": "code",
   "execution_count": null,
   "metadata": {},
   "outputs": [],
   "source": []
  },
  {
   "cell_type": "code",
   "execution_count": null,
   "metadata": {},
   "outputs": [
    {
     "name": "stdout",
     "output_type": "stream",
     "text": [
      "Parsing log file: /Users/yaleipeng/Projects/MS-Rewards-Farmer/logs/activity.log\n"
     ]
    },
    {
     "data": {
      "text/plain": [
       "[]"
      ]
     },
     "execution_count": 16,
     "metadata": {},
     "output_type": "execute_result"
    }
   ],
   "source": [
    "log_summary = parse_log(\n",
    "    # log_file_path=r\"/Users/yaleipeng/Projects/MS-Rewards-Farmer/logs/activity.log.2024-11-23\"\n",
    "    )\n",
    "# df = view_log_summary(summary=log_summary, agg_runs=True)\n",
    "# display(df)\n",
    "df_completion = check_completion(log_summary, ret_type=\"df\", agg_runs=True)\n",
    "\n",
    "df_max_run = df_completion.loc[df_completion.groupby('account')['run_index'].idxmax()].reset_index(drop=True)\n",
    "today = datetime.today().date()\n",
    "df_max_run['is_run_today'] = df_max_run['ts_start'].apply(pd.Timestamp).dt.date == today\n",
    "\n",
    "# Filter accounts where is_run_today is False or (is_run_today is True and overall_completion is False)\n",
    "rerun_needed_accounts = df_max_run[(df_max_run['is_run_today'] == False) | \n",
    "                                  ((df_max_run['is_run_today'] == True) & (df_max_run['overall_completion'] == False))]['account'].tolist()\n",
    "\n",
    "rerun_needed_accounts\n"
   ]
  },
  {
   "cell_type": "code",
   "execution_count": null,
   "metadata": {},
   "outputs": [],
   "source": [
    "check_completion(log_summary, ret_type=\"df\")\n"
   ]
  },
  {
   "cell_type": "code",
   "execution_count": null,
   "metadata": {},
   "outputs": [],
   "source": [
    "completion_dict = check_completion(log_summary)\n",
    "# Get the last run dict for each account\n",
    "last_run_dict = {account: runs[max(runs.keys())] for account, runs in completion_dict.items()}\n",
    "last_run_dict"
   ]
  },
  {
   "cell_type": "code",
   "execution_count": null,
   "metadata": {},
   "outputs": [],
   "source": []
  },
  {
   "cell_type": "code",
   "execution_count": null,
   "metadata": {},
   "outputs": [],
   "source": []
  },
  {
   "cell_type": "code",
   "execution_count": null,
   "metadata": {},
   "outputs": [],
   "source": []
  },
  {
   "cell_type": "code",
   "execution_count": null,
   "metadata": {},
   "outputs": [],
   "source": []
  },
  {
   "cell_type": "code",
   "execution_count": null,
   "metadata": {},
   "outputs": [],
   "source": [
    "# Assuming df has columns 'email', 'ts_start', and 'ts_end'\n",
    "today = datetime.today().date()\n",
    "\n",
    "# Group by email and calculate min ts_start, max ts_end, and the bool column\n",
    "result_df = df.groupby('email').agg(\n",
    "    min_ts_start=('ts_start', 'min'),\n",
    "    max_ts_end=('ts_end', 'max')\n",
    ").reset_index()\n",
    "\n",
    "result_df['run_today'] = result_df['min_ts_start'].dt.date == today\n",
    "# Extract overall completion flag\n",
    "result_df['overall_completion'] = result_df['email'].map(lambda x: completion_dict.get(x, (False, {}))[0])\n",
    "\n",
    "# Extract task completion flags\n",
    "task_completion_flags = result_df['email'].map(lambda x: completion_dict.get(x, (False, {}))[1])\n",
    "task_completion_df = pd.DataFrame(task_completion_flags.tolist(), index=result_df.index)\n",
    "\n",
    "# Combine the task completion flags with the result_df\n",
    "result_df = pd.concat([result_df, task_completion_df], axis=1)\n",
    "result_df"
   ]
  },
  {
   "cell_type": "code",
   "execution_count": null,
   "metadata": {},
   "outputs": [],
   "source": []
  },
  {
   "cell_type": "code",
   "execution_count": null,
   "metadata": {},
   "outputs": [],
   "source": [
    "completion_dict"
   ]
  }
 ],
 "metadata": {
  "kernelspec": {
   "display_name": "venv",
   "language": "python",
   "name": "python3"
  },
  "language_info": {
   "codemirror_mode": {
    "name": "ipython",
    "version": 3
   },
   "file_extension": ".py",
   "mimetype": "text/x-python",
   "name": "python",
   "nbconvert_exporter": "python",
   "pygments_lexer": "ipython3",
   "version": "3.12.1"
  }
 },
 "nbformat": 4,
 "nbformat_minor": 2
}
